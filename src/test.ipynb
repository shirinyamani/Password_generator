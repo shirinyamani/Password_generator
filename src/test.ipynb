{
 "cells": [
  {
   "cell_type": "code",
   "execution_count": 58,
   "metadata": {},
   "outputs": [
    {
     "name": "stderr",
     "output_type": "stream",
     "text": [
      "[nltk_data] Downloading package words to /home/shirin/nltk_data...\n",
      "[nltk_data]   Unzipping corpora/words.zip.\n"
     ]
    },
    {
     "data": {
      "text/plain": [
       "True"
      ]
     },
     "execution_count": 58,
     "metadata": {},
     "output_type": "execute_result"
    }
   ],
   "source": [
    "import nltk\n",
    "import random \n",
    "import string\n",
    "\n",
    "nltk.download('words')"
   ]
  },
  {
   "cell_type": "markdown",
   "metadata": {},
   "source": [
    "- Parent: class PasswordGenerator \n",
    "    - abstract\n",
    "    - `Generate()` method\n",
    "- class memorable \n",
    "- class digit \n",
    " "
   ]
  },
  {
   "cell_type": "code",
   "execution_count": 5,
   "metadata": {},
   "outputs": [],
   "source": [
    "from abc import ABC, abstractclassmethod\n",
    "import random\n",
    "\n",
    "\n",
    "class PasswordGenerator(ABC): #to not be abt to make obj from\n",
    "\n",
    "    @abstractclassmethod\n",
    "    def generate(self):\n",
    "        pass"
   ]
  },
  {
   "cell_type": "code",
   "execution_count": 6,
   "metadata": {},
   "outputs": [],
   "source": [
    "class Pincode(PasswordGenerator):\n",
    "    def __init__(self, length):\n",
    "        self.length = length\n",
    "    \n",
    "    def generate(self, length=8):\n",
    "        return \"\".join([random.choice(string.digits) for _ in range(self.length)])"
   ]
  },
  {
   "cell_type": "code",
   "execution_count": 7,
   "metadata": {},
   "outputs": [
    {
     "name": "stdout",
     "output_type": "stream",
     "text": [
      "a=0123456789, b=['7', '9', '7', '5', '0', '7', '6', '0'], c=79750760\n"
     ]
    }
   ],
   "source": [
    "a = string.digits\n",
    "b =[random.choice(string.digits) for _ in range(8)]\n",
    "c = \"\".join(b)\n",
    "print(f'a={a}, b={b}, c={c}')\n"
   ]
  },
  {
   "cell_type": "code",
   "execution_count": 35,
   "metadata": {},
   "outputs": [],
   "source": [
    "class RandomPass1(PasswordGenerator): #if wanna have all the possibilities\n",
    "    def __init__(self, length=8):\n",
    "        self.length = length\n",
    "\n",
    "    def generate(self):\n",
    "        _all = string.ascii_letters + string.punctuation + string.digits\n",
    "        return \"\".join([random.choice(_all) for _ in range(self.length)])\n"
   ]
  },
  {
   "cell_type": "code",
   "execution_count": 36,
   "metadata": {},
   "outputs": [],
   "source": [
    "class RandomPass(PasswordGenerator):\n",
    "    def __init__(self, length=8, include_symbol = False, include_num= False):\n",
    "        self.length = length\n",
    "        self.charactors = string.ascii_letters\n",
    "        if include_num:\n",
    "            self.charactors += string.digits\n",
    "        if include_symbol:\n",
    "            self.charactors += string.punctuation\n",
    "\n",
    "    def generate(self):\n",
    "        return \"\".join([random.choice(self.charactors) for _ in range(self.length)])"
   ]
  },
  {
   "cell_type": "code",
   "execution_count": 32,
   "metadata": {},
   "outputs": [
    {
     "data": {
      "text/plain": [
       "'Sfj;L!_-'"
      ]
     },
     "execution_count": 32,
     "metadata": {},
     "output_type": "execute_result"
    }
   ],
   "source": [
    "_all = string.ascii_letters + string.punctuation + string.digits\n",
    "p = \"\".join([random.choice(_all) for _ in range(8)])\n",
    "p"
   ]
  },
  {
   "cell_type": "code",
   "execution_count": 53,
   "metadata": {},
   "outputs": [],
   "source": [
    "class MemoPassword(PasswordGenerator):\n",
    "    def __init__(self, num_words=4, seperator='-', capitalize= False, vocab_list= None):\n",
    "        self.num_words = num_words\n",
    "        self.seperator = seperator\n",
    "        self.capitalize = capitalize\n",
    "\n",
    "        if vocab_list is None:\n",
    "            self.vocab_list = ['sihrin','python','job', 'future', 'what']\n",
    "\n",
    "    def generate(self):\n",
    "        password_words = [random.choice(self.vocab_list) for _ in range(self.num_words)]\n",
    "        if self.capitalize:\n",
    "            password_words = [w.upper() if random.choice([True, False]) else w.lower() for w in password_words]\n",
    "        return self.seperator.join(password_words)\n",
    "\n"
   ]
  },
  {
   "cell_type": "code",
   "execution_count": 37,
   "metadata": {},
   "outputs": [
    {
     "name": "stdout",
     "output_type": "stream",
     "text": [
      "71569897\n",
      "----------\n"
     ]
    },
    {
     "data": {
      "text/plain": [
       "'wErdHOEu'"
      ]
     },
     "execution_count": 37,
     "metadata": {},
     "output_type": "execute_result"
    }
   ],
   "source": [
    "password = Pincode(length=8)\n",
    "print(password.generate())\n",
    "\n",
    "print(\"----------\")\n",
    "password1 = RandomPass1(length=8)\n",
    "password1.generate()"
   ]
  },
  {
   "cell_type": "code",
   "execution_count": 57,
   "metadata": {},
   "outputs": [
    {
     "data": {
      "text/plain": [
       "'FUTURE-JOB-sihrin-JOB'"
      ]
     },
     "execution_count": 57,
     "metadata": {},
     "output_type": "execute_result"
    }
   ],
   "source": [
    "password = MemoPassword(capitalize=True)\n",
    "password.generate()"
   ]
  },
  {
   "cell_type": "code",
   "execution_count": null,
   "metadata": {},
   "outputs": [],
   "source": []
  }
 ],
 "metadata": {
  "kernelspec": {
   "display_name": "ali-ml",
   "language": "python",
   "name": "python3"
  },
  "language_info": {
   "codemirror_mode": {
    "name": "ipython",
    "version": 3
   },
   "file_extension": ".py",
   "mimetype": "text/x-python",
   "name": "python",
   "nbconvert_exporter": "python",
   "pygments_lexer": "ipython3",
   "version": "3.10.12"
  }
 },
 "nbformat": 4,
 "nbformat_minor": 2
}
