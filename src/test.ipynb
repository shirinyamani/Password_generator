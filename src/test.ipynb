{
 "cells": [
  {
   "cell_type": "code",
   "execution_count": 1,
   "metadata": {},
   "outputs": [],
   "source": [
    "import nltk\n",
    "import random \n",
    "import string"
   ]
  },
  {
   "cell_type": "markdown",
   "metadata": {},
   "source": [
    "- Parent: class PasswordGenerator \n",
    "    - abstract\n",
    "    - `Generate()` method\n",
    "- class memorable \n",
    "- class digit \n",
    " "
   ]
  },
  {
   "cell_type": "code",
   "execution_count": 5,
   "metadata": {},
   "outputs": [],
   "source": [
    "from abc import ABC, abstractclassmethod\n",
    "import random\n",
    "\n",
    "\n",
    "class PasswordGenerator(ABC): #to not be abt to make obj from\n",
    "\n",
    "    @abstractclassmethod\n",
    "    def generate(self):\n",
    "        pass"
   ]
  },
  {
   "cell_type": "code",
   "execution_count": 6,
   "metadata": {},
   "outputs": [],
   "source": [
    "class Pincode(PasswordGenerator):\n",
    "    def __init__(self, length):\n",
    "        self.length = length\n",
    "    \n",
    "    def generate(self, length=8):\n",
    "        return \"\".join([random.choice(string.digits) for _ in range(self.length)])"
   ]
  },
  {
   "cell_type": "code",
   "execution_count": 7,
   "metadata": {},
   "outputs": [
    {
     "name": "stdout",
     "output_type": "stream",
     "text": [
      "a=0123456789, b=['7', '9', '7', '5', '0', '7', '6', '0'], c=79750760\n"
     ]
    }
   ],
   "source": [
    "a = string.digits\n",
    "b =[random.choice(string.digits) for _ in range(8)]\n",
    "c = \"\".join(b)\n",
    "print(f'a={a}, b={b}, c={c}')\n"
   ]
  },
  {
   "cell_type": "code",
   "execution_count": 35,
   "metadata": {},
   "outputs": [],
   "source": [
    "class RandomPass(PasswordGenerator): #if wanna have all the possibilities\n",
    "    def __init__(self, length=8):\n",
    "        self.length = length\n",
    "\n",
    "    def generate(self):\n",
    "        _all = string.ascii_letters + string.punctuation + string.digits\n",
    "        return \"\".join([random.choice(_all) for _ in range(self.length)])\n"
   ]
  },
  {
   "cell_type": "code",
   "execution_count": null,
   "metadata": {},
   "outputs": [],
   "source": [
    "class RandomPass1(PasswordGenerator):\n",
    "    def __init__(self, length=8, include_symbol = False, include_num= False):\n",
    "        self.length = length\n",
    "        self.charactors = string.ascii_letters\n",
    "        if include_num:\n",
    "            self.charactors += string.digits\n",
    "        if include_symbol:\n",
    "            self.charactors += string.punctuation\n",
    "\n",
    "    def generate(self):\n",
    "        return \"\".join([random.choice(self.charactors) for _ in range(self.length)])"
   ]
  },
  {
   "cell_type": "code",
   "execution_count": 32,
   "metadata": {},
   "outputs": [
    {
     "data": {
      "text/plain": [
       "'Sfj;L!_-'"
      ]
     },
     "execution_count": 32,
     "metadata": {},
     "output_type": "execute_result"
    }
   ],
   "source": [
    "_all = string.ascii_letters + string.punctuation + string.digits\n",
    "p = \"\".join([random.choice(_all) for _ in range(8)])\n",
    "p"
   ]
  },
  {
   "cell_type": "code",
   "execution_count": 34,
   "metadata": {},
   "outputs": [
    {
     "name": "stdout",
     "output_type": "stream",
     "text": [
      "79574783\n",
      "----------\n"
     ]
    },
    {
     "data": {
      "text/plain": [
       "'zIOn~2h5'"
      ]
     },
     "execution_count": 34,
     "metadata": {},
     "output_type": "execute_result"
    }
   ],
   "source": [
    "password = Pincode(length=8)\n",
    "print(password.generate())\n",
    "\n",
    "print(\"----------\")\n",
    "password1 = RandomPass(length=8)\n",
    "password1.generate()"
   ]
  },
  {
   "cell_type": "code",
   "execution_count": null,
   "metadata": {},
   "outputs": [],
   "source": []
  }
 ],
 "metadata": {
  "kernelspec": {
   "display_name": "ali-ml",
   "language": "python",
   "name": "python3"
  },
  "language_info": {
   "codemirror_mode": {
    "name": "ipython",
    "version": 3
   },
   "file_extension": ".py",
   "mimetype": "text/x-python",
   "name": "python",
   "nbconvert_exporter": "python",
   "pygments_lexer": "ipython3",
   "version": "3.10.12"
  }
 },
 "nbformat": 4,
 "nbformat_minor": 2
}
